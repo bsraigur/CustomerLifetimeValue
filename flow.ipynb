{
 "cells": [
  {
   "cell_type": "code",
   "execution_count": null,
   "metadata": {},
   "outputs": [],
   "source": [
    "# LIBRARIES -----\n",
    "\n",
    "import pandas as pd\n",
    "import numpy as np\n",
    "import joblib\n",
    "\n",
    "import plydata.cat_tools as cat\n",
    "import plotnine as pn\n",
    "\n",
    "from xgboost import XGBClassifier, XGBRegressor\n",
    "from sklearn.model_selection import GridSearchCV\n",
    "\n",
    "pn.options.dpi = 300"
   ]
  },
  {
   "cell_type": "code",
   "execution_count": null,
   "metadata": {},
   "outputs": [],
   "source": [
    "# 1.0 DATA PREPARATION -----\n",
    "\n",
    "cdnow_raw_df = pd.read_csv(\n",
    "    r\"D:\\Projects\\CustomerLifetimeValue\\data\\cdnow.csv\",\n",
    "    names=['customer_id','date','quantity','price']\n",
    "    )\n"
   ]
  },
  {
   "cell_type": "code",
   "execution_count": null,
   "metadata": {},
   "outputs": [],
   "source": [
    "cdnow_raw_df.info()"
   ]
  },
  {
   "cell_type": "code",
   "execution_count": null,
   "metadata": {},
   "outputs": [],
   "source": [
    "cdnow_df = cdnow_raw_df \\\n",
    "    .assign(\n",
    "        date = lambda x: x['date'].astype(str)\n",
    "    ) \\\n",
    "    .assign(\n",
    "        date = lambda x: pd.to_datetime(x['date'])\n",
    "    ) \\\n",
    "    .dropna()"
   ]
  },
  {
   "cell_type": "code",
   "execution_count": null,
   "metadata": {},
   "outputs": [],
   "source": []
  }
 ],
 "metadata": {
  "kernelspec": {
   "display_name": "venv",
   "language": "python",
   "name": "python3"
  },
  "language_info": {
   "name": "python",
   "version": "3.11.9"
  }
 },
 "nbformat": 4,
 "nbformat_minor": 2
}
